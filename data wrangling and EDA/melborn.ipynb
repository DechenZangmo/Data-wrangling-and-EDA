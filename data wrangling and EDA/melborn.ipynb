{
 "cells": [
  {
   "cell_type": "code",
   "execution_count": 32,
   "id": "2f4f3623-9031-4312-8645-5067f6accd17",
   "metadata": {},
   "outputs": [],
   "source": [
    "import pandas as pd"
   ]
  },
  {
   "cell_type": "code",
   "execution_count": 33,
   "id": "8b7ad0b7-f0fc-4482-a077-b5bd9cebd353",
   "metadata": {},
   "outputs": [
    {
     "data": {
      "text/html": [
       "<div>\n",
       "<style scoped>\n",
       "    .dataframe tbody tr th:only-of-type {\n",
       "        vertical-align: middle;\n",
       "    }\n",
       "\n",
       "    .dataframe tbody tr th {\n",
       "        vertical-align: top;\n",
       "    }\n",
       "\n",
       "    .dataframe thead th {\n",
       "        text-align: right;\n",
       "    }\n",
       "</style>\n",
       "<table border=\"1\" class=\"dataframe\">\n",
       "  <thead>\n",
       "    <tr style=\"text-align: right;\">\n",
       "      <th></th>\n",
       "      <th>Suburb</th>\n",
       "      <th>Address</th>\n",
       "      <th>Rooms</th>\n",
       "      <th>Type</th>\n",
       "      <th>Price</th>\n",
       "      <th>Method</th>\n",
       "      <th>SellerG</th>\n",
       "      <th>Date</th>\n",
       "      <th>Distance</th>\n",
       "      <th>Postcode</th>\n",
       "      <th>...</th>\n",
       "      <th>Bathroom</th>\n",
       "      <th>Car</th>\n",
       "      <th>Landsize</th>\n",
       "      <th>BuildingArea</th>\n",
       "      <th>YearBuilt</th>\n",
       "      <th>CouncilArea</th>\n",
       "      <th>Lattitude</th>\n",
       "      <th>Longtitude</th>\n",
       "      <th>Regionname</th>\n",
       "      <th>Propertycount</th>\n",
       "    </tr>\n",
       "  </thead>\n",
       "  <tbody>\n",
       "    <tr>\n",
       "      <th>0</th>\n",
       "      <td>Abbotsford</td>\n",
       "      <td>68 Studley St</td>\n",
       "      <td>2</td>\n",
       "      <td>h</td>\n",
       "      <td>NaN</td>\n",
       "      <td>SS</td>\n",
       "      <td>Jellis</td>\n",
       "      <td>3/09/2016</td>\n",
       "      <td>2.5</td>\n",
       "      <td>3067.0</td>\n",
       "      <td>...</td>\n",
       "      <td>1.0</td>\n",
       "      <td>1.0</td>\n",
       "      <td>126.0</td>\n",
       "      <td>NaN</td>\n",
       "      <td>NaN</td>\n",
       "      <td>Yarra City Council</td>\n",
       "      <td>-37.80140</td>\n",
       "      <td>144.99580</td>\n",
       "      <td>Northern Metropolitan</td>\n",
       "      <td>4019.0</td>\n",
       "    </tr>\n",
       "    <tr>\n",
       "      <th>1</th>\n",
       "      <td>Abbotsford</td>\n",
       "      <td>85 Turner St</td>\n",
       "      <td>2</td>\n",
       "      <td>h</td>\n",
       "      <td>1480000.0</td>\n",
       "      <td>S</td>\n",
       "      <td>Biggin</td>\n",
       "      <td>3/12/2016</td>\n",
       "      <td>2.5</td>\n",
       "      <td>3067.0</td>\n",
       "      <td>...</td>\n",
       "      <td>1.0</td>\n",
       "      <td>1.0</td>\n",
       "      <td>202.0</td>\n",
       "      <td>NaN</td>\n",
       "      <td>NaN</td>\n",
       "      <td>Yarra City Council</td>\n",
       "      <td>-37.79960</td>\n",
       "      <td>144.99840</td>\n",
       "      <td>Northern Metropolitan</td>\n",
       "      <td>4019.0</td>\n",
       "    </tr>\n",
       "    <tr>\n",
       "      <th>2</th>\n",
       "      <td>Abbotsford</td>\n",
       "      <td>25 Bloomburg St</td>\n",
       "      <td>2</td>\n",
       "      <td>h</td>\n",
       "      <td>1035000.0</td>\n",
       "      <td>S</td>\n",
       "      <td>Biggin</td>\n",
       "      <td>4/02/2016</td>\n",
       "      <td>2.5</td>\n",
       "      <td>3067.0</td>\n",
       "      <td>...</td>\n",
       "      <td>1.0</td>\n",
       "      <td>0.0</td>\n",
       "      <td>156.0</td>\n",
       "      <td>79.0</td>\n",
       "      <td>1900.0</td>\n",
       "      <td>Yarra City Council</td>\n",
       "      <td>-37.80790</td>\n",
       "      <td>144.99340</td>\n",
       "      <td>Northern Metropolitan</td>\n",
       "      <td>4019.0</td>\n",
       "    </tr>\n",
       "    <tr>\n",
       "      <th>3</th>\n",
       "      <td>Abbotsford</td>\n",
       "      <td>18/659 Victoria St</td>\n",
       "      <td>3</td>\n",
       "      <td>u</td>\n",
       "      <td>NaN</td>\n",
       "      <td>VB</td>\n",
       "      <td>Rounds</td>\n",
       "      <td>4/02/2016</td>\n",
       "      <td>2.5</td>\n",
       "      <td>3067.0</td>\n",
       "      <td>...</td>\n",
       "      <td>2.0</td>\n",
       "      <td>1.0</td>\n",
       "      <td>0.0</td>\n",
       "      <td>NaN</td>\n",
       "      <td>NaN</td>\n",
       "      <td>Yarra City Council</td>\n",
       "      <td>-37.81140</td>\n",
       "      <td>145.01160</td>\n",
       "      <td>Northern Metropolitan</td>\n",
       "      <td>4019.0</td>\n",
       "    </tr>\n",
       "    <tr>\n",
       "      <th>4</th>\n",
       "      <td>Abbotsford</td>\n",
       "      <td>5 Charles St</td>\n",
       "      <td>3</td>\n",
       "      <td>h</td>\n",
       "      <td>1465000.0</td>\n",
       "      <td>SP</td>\n",
       "      <td>Biggin</td>\n",
       "      <td>4/03/2017</td>\n",
       "      <td>2.5</td>\n",
       "      <td>3067.0</td>\n",
       "      <td>...</td>\n",
       "      <td>2.0</td>\n",
       "      <td>0.0</td>\n",
       "      <td>134.0</td>\n",
       "      <td>150.0</td>\n",
       "      <td>1900.0</td>\n",
       "      <td>Yarra City Council</td>\n",
       "      <td>-37.80930</td>\n",
       "      <td>144.99440</td>\n",
       "      <td>Northern Metropolitan</td>\n",
       "      <td>4019.0</td>\n",
       "    </tr>\n",
       "    <tr>\n",
       "      <th>...</th>\n",
       "      <td>...</td>\n",
       "      <td>...</td>\n",
       "      <td>...</td>\n",
       "      <td>...</td>\n",
       "      <td>...</td>\n",
       "      <td>...</td>\n",
       "      <td>...</td>\n",
       "      <td>...</td>\n",
       "      <td>...</td>\n",
       "      <td>...</td>\n",
       "      <td>...</td>\n",
       "      <td>...</td>\n",
       "      <td>...</td>\n",
       "      <td>...</td>\n",
       "      <td>...</td>\n",
       "      <td>...</td>\n",
       "      <td>...</td>\n",
       "      <td>...</td>\n",
       "      <td>...</td>\n",
       "      <td>...</td>\n",
       "      <td>...</td>\n",
       "    </tr>\n",
       "    <tr>\n",
       "      <th>34852</th>\n",
       "      <td>Yarraville</td>\n",
       "      <td>13 Burns St</td>\n",
       "      <td>4</td>\n",
       "      <td>h</td>\n",
       "      <td>1480000.0</td>\n",
       "      <td>PI</td>\n",
       "      <td>Jas</td>\n",
       "      <td>24/02/2018</td>\n",
       "      <td>6.3</td>\n",
       "      <td>3013.0</td>\n",
       "      <td>...</td>\n",
       "      <td>1.0</td>\n",
       "      <td>3.0</td>\n",
       "      <td>593.0</td>\n",
       "      <td>NaN</td>\n",
       "      <td>NaN</td>\n",
       "      <td>Maribyrnong City Council</td>\n",
       "      <td>-37.81053</td>\n",
       "      <td>144.88467</td>\n",
       "      <td>Western Metropolitan</td>\n",
       "      <td>6543.0</td>\n",
       "    </tr>\n",
       "    <tr>\n",
       "      <th>34853</th>\n",
       "      <td>Yarraville</td>\n",
       "      <td>29A Murray St</td>\n",
       "      <td>2</td>\n",
       "      <td>h</td>\n",
       "      <td>888000.0</td>\n",
       "      <td>SP</td>\n",
       "      <td>Sweeney</td>\n",
       "      <td>24/02/2018</td>\n",
       "      <td>6.3</td>\n",
       "      <td>3013.0</td>\n",
       "      <td>...</td>\n",
       "      <td>2.0</td>\n",
       "      <td>1.0</td>\n",
       "      <td>98.0</td>\n",
       "      <td>104.0</td>\n",
       "      <td>2018.0</td>\n",
       "      <td>Maribyrnong City Council</td>\n",
       "      <td>-37.81551</td>\n",
       "      <td>144.88826</td>\n",
       "      <td>Western Metropolitan</td>\n",
       "      <td>6543.0</td>\n",
       "    </tr>\n",
       "    <tr>\n",
       "      <th>34854</th>\n",
       "      <td>Yarraville</td>\n",
       "      <td>147A Severn St</td>\n",
       "      <td>2</td>\n",
       "      <td>t</td>\n",
       "      <td>705000.0</td>\n",
       "      <td>S</td>\n",
       "      <td>Jas</td>\n",
       "      <td>24/02/2018</td>\n",
       "      <td>6.3</td>\n",
       "      <td>3013.0</td>\n",
       "      <td>...</td>\n",
       "      <td>1.0</td>\n",
       "      <td>2.0</td>\n",
       "      <td>220.0</td>\n",
       "      <td>120.0</td>\n",
       "      <td>2000.0</td>\n",
       "      <td>Maribyrnong City Council</td>\n",
       "      <td>-37.82286</td>\n",
       "      <td>144.87856</td>\n",
       "      <td>Western Metropolitan</td>\n",
       "      <td>6543.0</td>\n",
       "    </tr>\n",
       "    <tr>\n",
       "      <th>34855</th>\n",
       "      <td>Yarraville</td>\n",
       "      <td>12/37 Stephen St</td>\n",
       "      <td>3</td>\n",
       "      <td>h</td>\n",
       "      <td>1140000.0</td>\n",
       "      <td>SP</td>\n",
       "      <td>hockingstuart</td>\n",
       "      <td>24/02/2018</td>\n",
       "      <td>6.3</td>\n",
       "      <td>3013.0</td>\n",
       "      <td>...</td>\n",
       "      <td>NaN</td>\n",
       "      <td>NaN</td>\n",
       "      <td>NaN</td>\n",
       "      <td>NaN</td>\n",
       "      <td>NaN</td>\n",
       "      <td>Maribyrnong City Council</td>\n",
       "      <td>NaN</td>\n",
       "      <td>NaN</td>\n",
       "      <td>Western Metropolitan</td>\n",
       "      <td>6543.0</td>\n",
       "    </tr>\n",
       "    <tr>\n",
       "      <th>34856</th>\n",
       "      <td>Yarraville</td>\n",
       "      <td>3 Tarrengower St</td>\n",
       "      <td>2</td>\n",
       "      <td>h</td>\n",
       "      <td>1020000.0</td>\n",
       "      <td>PI</td>\n",
       "      <td>RW</td>\n",
       "      <td>24/02/2018</td>\n",
       "      <td>6.3</td>\n",
       "      <td>3013.0</td>\n",
       "      <td>...</td>\n",
       "      <td>1.0</td>\n",
       "      <td>0.0</td>\n",
       "      <td>250.0</td>\n",
       "      <td>103.0</td>\n",
       "      <td>1930.0</td>\n",
       "      <td>Maribyrnong City Council</td>\n",
       "      <td>-37.81810</td>\n",
       "      <td>144.89351</td>\n",
       "      <td>Western Metropolitan</td>\n",
       "      <td>6543.0</td>\n",
       "    </tr>\n",
       "  </tbody>\n",
       "</table>\n",
       "<p>34857 rows × 21 columns</p>\n",
       "</div>"
      ],
      "text/plain": [
       "           Suburb             Address  Rooms Type      Price Method  \\\n",
       "0      Abbotsford       68 Studley St      2    h        NaN     SS   \n",
       "1      Abbotsford        85 Turner St      2    h  1480000.0      S   \n",
       "2      Abbotsford     25 Bloomburg St      2    h  1035000.0      S   \n",
       "3      Abbotsford  18/659 Victoria St      3    u        NaN     VB   \n",
       "4      Abbotsford        5 Charles St      3    h  1465000.0     SP   \n",
       "...           ...                 ...    ...  ...        ...    ...   \n",
       "34852  Yarraville         13 Burns St      4    h  1480000.0     PI   \n",
       "34853  Yarraville       29A Murray St      2    h   888000.0     SP   \n",
       "34854  Yarraville      147A Severn St      2    t   705000.0      S   \n",
       "34855  Yarraville    12/37 Stephen St      3    h  1140000.0     SP   \n",
       "34856  Yarraville    3 Tarrengower St      2    h  1020000.0     PI   \n",
       "\n",
       "             SellerG        Date  Distance  Postcode  ...  Bathroom  Car  \\\n",
       "0             Jellis   3/09/2016       2.5    3067.0  ...       1.0  1.0   \n",
       "1             Biggin   3/12/2016       2.5    3067.0  ...       1.0  1.0   \n",
       "2             Biggin   4/02/2016       2.5    3067.0  ...       1.0  0.0   \n",
       "3             Rounds   4/02/2016       2.5    3067.0  ...       2.0  1.0   \n",
       "4             Biggin   4/03/2017       2.5    3067.0  ...       2.0  0.0   \n",
       "...              ...         ...       ...       ...  ...       ...  ...   \n",
       "34852            Jas  24/02/2018       6.3    3013.0  ...       1.0  3.0   \n",
       "34853        Sweeney  24/02/2018       6.3    3013.0  ...       2.0  1.0   \n",
       "34854            Jas  24/02/2018       6.3    3013.0  ...       1.0  2.0   \n",
       "34855  hockingstuart  24/02/2018       6.3    3013.0  ...       NaN  NaN   \n",
       "34856             RW  24/02/2018       6.3    3013.0  ...       1.0  0.0   \n",
       "\n",
       "       Landsize  BuildingArea  YearBuilt               CouncilArea Lattitude  \\\n",
       "0         126.0           NaN        NaN        Yarra City Council -37.80140   \n",
       "1         202.0           NaN        NaN        Yarra City Council -37.79960   \n",
       "2         156.0          79.0     1900.0        Yarra City Council -37.80790   \n",
       "3           0.0           NaN        NaN        Yarra City Council -37.81140   \n",
       "4         134.0         150.0     1900.0        Yarra City Council -37.80930   \n",
       "...         ...           ...        ...                       ...       ...   \n",
       "34852     593.0           NaN        NaN  Maribyrnong City Council -37.81053   \n",
       "34853      98.0         104.0     2018.0  Maribyrnong City Council -37.81551   \n",
       "34854     220.0         120.0     2000.0  Maribyrnong City Council -37.82286   \n",
       "34855       NaN           NaN        NaN  Maribyrnong City Council       NaN   \n",
       "34856     250.0         103.0     1930.0  Maribyrnong City Council -37.81810   \n",
       "\n",
       "       Longtitude             Regionname Propertycount  \n",
       "0       144.99580  Northern Metropolitan        4019.0  \n",
       "1       144.99840  Northern Metropolitan        4019.0  \n",
       "2       144.99340  Northern Metropolitan        4019.0  \n",
       "3       145.01160  Northern Metropolitan        4019.0  \n",
       "4       144.99440  Northern Metropolitan        4019.0  \n",
       "...           ...                    ...           ...  \n",
       "34852   144.88467   Western Metropolitan        6543.0  \n",
       "34853   144.88826   Western Metropolitan        6543.0  \n",
       "34854   144.87856   Western Metropolitan        6543.0  \n",
       "34855         NaN   Western Metropolitan        6543.0  \n",
       "34856   144.89351   Western Metropolitan        6543.0  \n",
       "\n",
       "[34857 rows x 21 columns]"
      ]
     },
     "execution_count": 33,
     "metadata": {},
     "output_type": "execute_result"
    }
   ],
   "source": [
    "dataset = pd.read_csv('./Melbourne_housing_FULL.csv')\n",
    "dataset"
   ]
  },
  {
   "cell_type": "code",
   "execution_count": 34,
   "id": "7f2467d3-ac63-4981-8c30-003907b96d44",
   "metadata": {},
   "outputs": [
    {
     "data": {
      "text/html": [
       "<div>\n",
       "<style scoped>\n",
       "    .dataframe tbody tr th:only-of-type {\n",
       "        vertical-align: middle;\n",
       "    }\n",
       "\n",
       "    .dataframe tbody tr th {\n",
       "        vertical-align: top;\n",
       "    }\n",
       "\n",
       "    .dataframe thead th {\n",
       "        text-align: right;\n",
       "    }\n",
       "</style>\n",
       "<table border=\"1\" class=\"dataframe\">\n",
       "  <thead>\n",
       "    <tr style=\"text-align: right;\">\n",
       "      <th></th>\n",
       "      <th>Suburb</th>\n",
       "      <th>Address</th>\n",
       "      <th>Rooms</th>\n",
       "      <th>Type</th>\n",
       "      <th>Price</th>\n",
       "      <th>Method</th>\n",
       "      <th>SellerG</th>\n",
       "      <th>Date</th>\n",
       "      <th>Distance</th>\n",
       "      <th>Postcode</th>\n",
       "      <th>...</th>\n",
       "      <th>Bathroom</th>\n",
       "      <th>Car</th>\n",
       "      <th>Landsize</th>\n",
       "      <th>BuildingArea</th>\n",
       "      <th>YearBuilt</th>\n",
       "      <th>CouncilArea</th>\n",
       "      <th>Lattitude</th>\n",
       "      <th>Longtitude</th>\n",
       "      <th>Regionname</th>\n",
       "      <th>Propertycount</th>\n",
       "    </tr>\n",
       "  </thead>\n",
       "  <tbody>\n",
       "    <tr>\n",
       "      <th>0</th>\n",
       "      <td>Abbotsford</td>\n",
       "      <td>68 Studley St</td>\n",
       "      <td>2</td>\n",
       "      <td>h</td>\n",
       "      <td>NaN</td>\n",
       "      <td>SS</td>\n",
       "      <td>Jellis</td>\n",
       "      <td>3/09/2016</td>\n",
       "      <td>2.5</td>\n",
       "      <td>3067.0</td>\n",
       "      <td>...</td>\n",
       "      <td>1.0</td>\n",
       "      <td>1.0</td>\n",
       "      <td>126.0</td>\n",
       "      <td>NaN</td>\n",
       "      <td>NaN</td>\n",
       "      <td>Yarra City Council</td>\n",
       "      <td>-37.8014</td>\n",
       "      <td>144.9958</td>\n",
       "      <td>Northern Metropolitan</td>\n",
       "      <td>4019.0</td>\n",
       "    </tr>\n",
       "    <tr>\n",
       "      <th>1</th>\n",
       "      <td>Abbotsford</td>\n",
       "      <td>85 Turner St</td>\n",
       "      <td>2</td>\n",
       "      <td>h</td>\n",
       "      <td>1480000.0</td>\n",
       "      <td>S</td>\n",
       "      <td>Biggin</td>\n",
       "      <td>3/12/2016</td>\n",
       "      <td>2.5</td>\n",
       "      <td>3067.0</td>\n",
       "      <td>...</td>\n",
       "      <td>1.0</td>\n",
       "      <td>1.0</td>\n",
       "      <td>202.0</td>\n",
       "      <td>NaN</td>\n",
       "      <td>NaN</td>\n",
       "      <td>Yarra City Council</td>\n",
       "      <td>-37.7996</td>\n",
       "      <td>144.9984</td>\n",
       "      <td>Northern Metropolitan</td>\n",
       "      <td>4019.0</td>\n",
       "    </tr>\n",
       "    <tr>\n",
       "      <th>2</th>\n",
       "      <td>Abbotsford</td>\n",
       "      <td>25 Bloomburg St</td>\n",
       "      <td>2</td>\n",
       "      <td>h</td>\n",
       "      <td>1035000.0</td>\n",
       "      <td>S</td>\n",
       "      <td>Biggin</td>\n",
       "      <td>4/02/2016</td>\n",
       "      <td>2.5</td>\n",
       "      <td>3067.0</td>\n",
       "      <td>...</td>\n",
       "      <td>1.0</td>\n",
       "      <td>0.0</td>\n",
       "      <td>156.0</td>\n",
       "      <td>79.0</td>\n",
       "      <td>1900.0</td>\n",
       "      <td>Yarra City Council</td>\n",
       "      <td>-37.8079</td>\n",
       "      <td>144.9934</td>\n",
       "      <td>Northern Metropolitan</td>\n",
       "      <td>4019.0</td>\n",
       "    </tr>\n",
       "    <tr>\n",
       "      <th>3</th>\n",
       "      <td>Abbotsford</td>\n",
       "      <td>18/659 Victoria St</td>\n",
       "      <td>3</td>\n",
       "      <td>u</td>\n",
       "      <td>NaN</td>\n",
       "      <td>VB</td>\n",
       "      <td>Rounds</td>\n",
       "      <td>4/02/2016</td>\n",
       "      <td>2.5</td>\n",
       "      <td>3067.0</td>\n",
       "      <td>...</td>\n",
       "      <td>2.0</td>\n",
       "      <td>1.0</td>\n",
       "      <td>0.0</td>\n",
       "      <td>NaN</td>\n",
       "      <td>NaN</td>\n",
       "      <td>Yarra City Council</td>\n",
       "      <td>-37.8114</td>\n",
       "      <td>145.0116</td>\n",
       "      <td>Northern Metropolitan</td>\n",
       "      <td>4019.0</td>\n",
       "    </tr>\n",
       "    <tr>\n",
       "      <th>4</th>\n",
       "      <td>Abbotsford</td>\n",
       "      <td>5 Charles St</td>\n",
       "      <td>3</td>\n",
       "      <td>h</td>\n",
       "      <td>1465000.0</td>\n",
       "      <td>SP</td>\n",
       "      <td>Biggin</td>\n",
       "      <td>4/03/2017</td>\n",
       "      <td>2.5</td>\n",
       "      <td>3067.0</td>\n",
       "      <td>...</td>\n",
       "      <td>2.0</td>\n",
       "      <td>0.0</td>\n",
       "      <td>134.0</td>\n",
       "      <td>150.0</td>\n",
       "      <td>1900.0</td>\n",
       "      <td>Yarra City Council</td>\n",
       "      <td>-37.8093</td>\n",
       "      <td>144.9944</td>\n",
       "      <td>Northern Metropolitan</td>\n",
       "      <td>4019.0</td>\n",
       "    </tr>\n",
       "  </tbody>\n",
       "</table>\n",
       "<p>5 rows × 21 columns</p>\n",
       "</div>"
      ],
      "text/plain": [
       "       Suburb             Address  Rooms Type      Price Method SellerG  \\\n",
       "0  Abbotsford       68 Studley St      2    h        NaN     SS  Jellis   \n",
       "1  Abbotsford        85 Turner St      2    h  1480000.0      S  Biggin   \n",
       "2  Abbotsford     25 Bloomburg St      2    h  1035000.0      S  Biggin   \n",
       "3  Abbotsford  18/659 Victoria St      3    u        NaN     VB  Rounds   \n",
       "4  Abbotsford        5 Charles St      3    h  1465000.0     SP  Biggin   \n",
       "\n",
       "        Date  Distance  Postcode  ...  Bathroom  Car  Landsize  BuildingArea  \\\n",
       "0  3/09/2016       2.5    3067.0  ...       1.0  1.0     126.0           NaN   \n",
       "1  3/12/2016       2.5    3067.0  ...       1.0  1.0     202.0           NaN   \n",
       "2  4/02/2016       2.5    3067.0  ...       1.0  0.0     156.0          79.0   \n",
       "3  4/02/2016       2.5    3067.0  ...       2.0  1.0       0.0           NaN   \n",
       "4  4/03/2017       2.5    3067.0  ...       2.0  0.0     134.0         150.0   \n",
       "\n",
       "   YearBuilt         CouncilArea Lattitude  Longtitude             Regionname  \\\n",
       "0        NaN  Yarra City Council  -37.8014    144.9958  Northern Metropolitan   \n",
       "1        NaN  Yarra City Council  -37.7996    144.9984  Northern Metropolitan   \n",
       "2     1900.0  Yarra City Council  -37.8079    144.9934  Northern Metropolitan   \n",
       "3        NaN  Yarra City Council  -37.8114    145.0116  Northern Metropolitan   \n",
       "4     1900.0  Yarra City Council  -37.8093    144.9944  Northern Metropolitan   \n",
       "\n",
       "  Propertycount  \n",
       "0        4019.0  \n",
       "1        4019.0  \n",
       "2        4019.0  \n",
       "3        4019.0  \n",
       "4        4019.0  \n",
       "\n",
       "[5 rows x 21 columns]"
      ]
     },
     "execution_count": 34,
     "metadata": {},
     "output_type": "execute_result"
    }
   ],
   "source": [
    "dataset.head()"
   ]
  },
  {
   "cell_type": "code",
   "execution_count": 35,
   "id": "f3790992-84d2-4c44-8481-8d289b883a5f",
   "metadata": {},
   "outputs": [],
   "source": [
    "cols_to_use = ['Suburb', 'Rooms', 'Type', 'Method', 'SellerG', 'Regionname', \n",
    "               'Propertycount', 'Distance','Bedroom2', 'Bathroom', 'Car', \n",
    "               'Landsize', 'BuildingArea', 'Price']\n",
    "dataset = dataset[cols_to_use]"
   ]
  },
  {
   "cell_type": "markdown",
   "id": "1ff83175-d8d0-4405-a8fb-eb6d80802348",
   "metadata": {},
   "source": [
    "### missing value"
   ]
  },
  {
   "cell_type": "code",
   "execution_count": 36,
   "id": "7ba7f6dd-aca7-46e4-807c-d6aa261b4507",
   "metadata": {},
   "outputs": [],
   "source": [
    "import warnings\n",
    "warnings.filterwarnings('ignore')\n",
    "cols_to_fill_zero = ['Propertycount', 'Distance', 'Bedroom2', 'Bathroom', 'Car']\n",
    "dataset[cols_to_fill_zero] = dataset[cols_to_fill_zero].fillna(0)\n",
    "\n",
    "dataset['Landsize'] = dataset['Landsize'].fillna(dataset.Landsize.mean())\n",
    "dataset['BuildingArea'] = dataset['BuildingArea'].fillna(dataset.BuildingArea.mean())"
   ]
  },
  {
   "cell_type": "code",
   "execution_count": 37,
   "id": "b01a8bca-a564-48e0-9c5c-28ce0080a749",
   "metadata": {},
   "outputs": [],
   "source": [
    "dataset.dropna(inplace=True)"
   ]
  },
  {
   "cell_type": "code",
   "execution_count": 9,
   "id": "f33d3999-2025-4136-8d75-5febd8dfc965",
   "metadata": {},
   "outputs": [
    {
     "data": {
      "text/plain": [
       "(27244, 14)"
      ]
     },
     "execution_count": 9,
     "metadata": {},
     "output_type": "execute_result"
    }
   ],
   "source": [
    "dataset.shape"
   ]
  },
  {
   "cell_type": "markdown",
   "id": "c6678514-8c2e-4191-8ebf-a57c450801a6",
   "metadata": {},
   "source": [
    "### outlier handling"
   ]
  },
  {
   "cell_type": "code",
   "execution_count": 38,
   "id": "9d9572bb-43c7-4ce1-bcf1-396bf2a58a9e",
   "metadata": {},
   "outputs": [
    {
     "data": {
      "text/plain": [
       "<Axes: xlabel='Rooms'>"
      ]
     },
     "execution_count": 38,
     "metadata": {},
     "output_type": "execute_result"
    },
    {
     "data": {
      "image/png": "[encoded data removed]",
      "text/plain": [
       "<Figure size 800x400 with 1 Axes>"
      ]
     },
     "metadata": {},
     "output_type": "display_data"
    }
   ],
   "source": [
    "import seaborn as sns\n",
    "import matplotlib.pyplot as plt\n",
    "plt.figure(figsize =(8,4))\n",
    "sns.boxplot(x = 'Rooms', data=dataset, orient='h')"
   ]
  },
  {
   "cell_type": "code",
   "execution_count": 39,
   "id": "98b644e9-811f-44c9-b406-9acb59e8cb35",
   "metadata": {},
   "outputs": [
    {
     "name": "stdout",
     "output_type": "stream",
     "text": [
      "1st quartile = 2.0 \n",
      "3rd quartile range = 4.0 \n",
      "inter quartile range = 2.0 \n"
     ]
    }
   ],
   "source": [
    "from scipy import stats\n",
    "\n",
    "q1 = dataset['Rooms'].quantile(q=0.25)\n",
    "q3 = dataset['Rooms'].quantile(q=0.75)\n",
    "IQR = q3-q1\n",
    "print('1st quartile = {} \\n3rd quartile range = {} \\ninter quartile range = {} '\n",
    "      .format(q1,q3,stats.iqr(dataset['Rooms'])))"
   ]
  },
  {
   "cell_type": "code",
   "execution_count": 40,
   "id": "71d2eaba-d933-42f6-9a64-ad022151f032",
   "metadata": {},
   "outputs": [
    {
     "name": "stdout",
     "output_type": "stream",
     "text": [
      "lower outlier =  -1.0\n",
      "uppper outlier =  7.0\n"
     ]
    }
   ],
   "source": [
    "lower_outlier = q1-1.5*(IQR)\n",
    "upper_outlier = q3+1.5*(IQR)\n",
    "\n",
    "print('lower outlier = ',lower_outlier)\n",
    "print('uppper outlier = ',upper_outlier)"
   ]
  },
  {
   "cell_type": "code",
   "execution_count": 41,
   "id": "d5685ea3-38f5-450a-b82c-5805313cd935",
   "metadata": {},
   "outputs": [
    {
     "name": "stdout",
     "output_type": "stream",
     "text": [
      "Number of upper outlier =   23\n",
      "Number of lower outlier =   0\n"
     ]
    }
   ],
   "source": [
    "print('Number of upper outlier =  ',\n",
    "      dataset[dataset['Rooms']>upper_outlier]['Rooms'].count())\n",
    "print('Number of lower outlier =  ',\n",
    "      dataset[dataset['Rooms']<lower_outlier]['Rooms'].count())"
   ]
  },
  {
   "cell_type": "code",
   "execution_count": 42,
   "id": "991db22b-ec1a-4a03-8bc6-a6ad9b18ac36",
   "metadata": {},
   "outputs": [],
   "source": [
    "dataset.loc[(dataset['Rooms']<lower_outlier) | (dataset['Rooms']>upper_outlier),\n",
    "            ['Rooms']] = dataset['Rooms'].median()"
   ]
  },
  {
   "cell_type": "code",
   "execution_count": 43,
   "id": "cd961510-7575-44c1-92de-5255281943bd",
   "metadata": {},
   "outputs": [
    {
     "name": "stdout",
     "output_type": "stream",
     "text": [
      "Number of upper outlier =   0\n",
      "Number of lower outlier =   0\n"
     ]
    }
   ],
   "source": [
    "print('Number of upper outlier =  ',dataset[dataset['Rooms']>upper_outlier]['Rooms'].count())\n",
    "print('Number of lower outlier =  ',dataset[dataset['Rooms']<lower_outlier]['Rooms'].count())"
   ]
  },
  {
   "cell_type": "code",
   "execution_count": 17,
   "id": "81b65548-16e8-4cec-891f-bf7b5e1307fb",
   "metadata": {},
   "outputs": [
    {
     "data": {
      "text/plain": [
       "<Axes: xlabel='Rooms'>"
      ]
     },
     "execution_count": 17,
     "metadata": {},
     "output_type": "execute_result"
    },
    {
     "data": {
      "image/png": "[encoded data removed]",
      "text/plain": [
       "<Figure size 800x400 with 1 Axes>"
      ]
     },
     "metadata": {},
     "output_type": "display_data"
    }
   ],
   "source": [
    "import seaborn as sns\n",
    "plt.figure(figsize =(8,4))\n",
    "sns.boxplot(x = 'Rooms', data=dataset, orient='h')"
   ]
  },
  {
   "cell_type": "code",
   "execution_count": 44,
   "id": "fbed0831-80be-43b4-bc41-2adfaa0d1ea7",
   "metadata": {},
   "outputs": [],
   "source": [
    "for cols in dataset.columns[:-1]:\n",
    "    if dataset[cols].dtype == object:\n",
    "        continue\n",
    "    else:\n",
    "        Q1 = dataset[cols].quantile(q=0.25)\n",
    "        Q3 = dataset[cols].quantile(q=0.75)\n",
    "        iqr = Q3 - Q1\n",
    "    \n",
    "        low = Q1 - 1.5*(Q3-Q1)\n",
    "        high = Q3 + 1.5*(Q3-Q1)\n",
    "        dataset.loc[(dataset[cols]<low) | (dataset[cols]>high),cols] = dataset[cols].median()"
   ]
  },
  {
   "cell_type": "code",
   "execution_count": 45,
   "id": "455ccd6d-e4d4-4016-816a-b1df9a95052a",
   "metadata": {},
   "outputs": [
    {
     "data": {
      "text/plain": [
       "<Axes: xlabel='BuildingArea'>"
      ]
     },
     "execution_count": 45,
     "metadata": {},
     "output_type": "execute_result"
    },
    {
     "data": {
      "image/png": "[encoded data removed]",
      "text/plain": [
       "<Figure size 800x400 with 1 Axes>"
      ]
     },
     "metadata": {},
     "output_type": "display_data"
    }
   ],
   "source": [
    "plt.figure(figsize =(8,4))\n",
    "sns.boxplot(x = 'BuildingArea', data=dataset, orient='h')"
   ]
  },
  {
   "cell_type": "code",
   "execution_count": 46,
   "id": "cf3ba74c-0350-4256-8766-f68d96ed33d3",
   "metadata": {},
   "outputs": [
    {
     "name": "stdout",
     "output_type": "stream",
     "text": [
      "(27244, 14)\n",
      "(27244, 7)\n"
     ]
    },
    {
     "data": {
      "text/html": [
       "<div>\n",
       "<style scoped>\n",
       "    .dataframe tbody tr th:only-of-type {\n",
       "        vertical-align: middle;\n",
       "    }\n",
       "\n",
       "    .dataframe tbody tr th {\n",
       "        vertical-align: top;\n",
       "    }\n",
       "\n",
       "    .dataframe thead th {\n",
       "        text-align: right;\n",
       "    }\n",
       "</style>\n",
       "<table border=\"1\" class=\"dataframe\">\n",
       "  <thead>\n",
       "    <tr style=\"text-align: right;\">\n",
       "      <th></th>\n",
       "      <th>Rooms</th>\n",
       "      <th>Propertycount</th>\n",
       "      <th>Distance</th>\n",
       "      <th>Bedroom2</th>\n",
       "      <th>Bathroom</th>\n",
       "      <th>Landsize</th>\n",
       "      <th>BuildingArea</th>\n",
       "    </tr>\n",
       "  </thead>\n",
       "  <tbody>\n",
       "    <tr>\n",
       "      <th>1</th>\n",
       "      <td>2</td>\n",
       "      <td>4019.0</td>\n",
       "      <td>2.5</td>\n",
       "      <td>2.0</td>\n",
       "      <td>1.0</td>\n",
       "      <td>202.0</td>\n",
       "      <td>160.2564</td>\n",
       "    </tr>\n",
       "    <tr>\n",
       "      <th>2</th>\n",
       "      <td>2</td>\n",
       "      <td>4019.0</td>\n",
       "      <td>2.5</td>\n",
       "      <td>2.0</td>\n",
       "      <td>1.0</td>\n",
       "      <td>156.0</td>\n",
       "      <td>160.2564</td>\n",
       "    </tr>\n",
       "    <tr>\n",
       "      <th>4</th>\n",
       "      <td>3</td>\n",
       "      <td>4019.0</td>\n",
       "      <td>2.5</td>\n",
       "      <td>3.0</td>\n",
       "      <td>2.0</td>\n",
       "      <td>134.0</td>\n",
       "      <td>150.0000</td>\n",
       "    </tr>\n",
       "    <tr>\n",
       "      <th>5</th>\n",
       "      <td>3</td>\n",
       "      <td>4019.0</td>\n",
       "      <td>2.5</td>\n",
       "      <td>3.0</td>\n",
       "      <td>2.0</td>\n",
       "      <td>94.0</td>\n",
       "      <td>160.2564</td>\n",
       "    </tr>\n",
       "    <tr>\n",
       "      <th>6</th>\n",
       "      <td>4</td>\n",
       "      <td>4019.0</td>\n",
       "      <td>2.5</td>\n",
       "      <td>3.0</td>\n",
       "      <td>1.0</td>\n",
       "      <td>120.0</td>\n",
       "      <td>160.2564</td>\n",
       "    </tr>\n",
       "  </tbody>\n",
       "</table>\n",
       "</div>"
      ],
      "text/plain": [
       "   Rooms  Propertycount  Distance  Bedroom2  Bathroom  Landsize  BuildingArea\n",
       "1      2         4019.0       2.5       2.0       1.0     202.0      160.2564\n",
       "2      2         4019.0       2.5       2.0       1.0     156.0      160.2564\n",
       "4      3         4019.0       2.5       3.0       2.0     134.0      150.0000\n",
       "5      3         4019.0       2.5       3.0       2.0      94.0      160.2564\n",
       "6      4         4019.0       2.5       3.0       1.0     120.0      160.2564"
      ]
     },
     "execution_count": 46,
     "metadata": {},
     "output_type": "execute_result"
    }
   ],
   "source": [
    "print(dataset.shape)\n",
    "dataset1_num_col = dataset.drop(['Car','Suburb', 'Type', 'Method', \n",
    "                                 'SellerG',\n",
    "                                 'Regionname','Price'],axis = 1)\n",
    "print(dataset1_num_col.shape)\n",
    "\n",
    "dataset1_num_col.head()"
   ]
  },
  {
   "cell_type": "code",
   "execution_count": 21,
   "id": "080a271a-65b7-433d-b65f-91f4b2669949",
   "metadata": {},
   "outputs": [
    {
     "name": "stdout",
     "output_type": "stream",
     "text": [
      "(27244, 713)\n"
     ]
    }
   ],
   "source": [
    "dataset_cat = pd.get_dummies(dataset, drop_first=True)\n",
    "print(dataset_cat.shape)"
   ]
  },
  {
   "cell_type": "code",
   "execution_count": 47,
   "id": "7dc46e11-c453-4ea2-8f6c-6d16ed3d385f",
   "metadata": {},
   "outputs": [
    {
     "data": {
      "text/plain": [
       "(27244, 720)"
      ]
     },
     "execution_count": 47,
     "metadata": {},
     "output_type": "execute_result"
    }
   ],
   "source": [
    "dataset= pd.concat([dataset1_num_col,dataset_cat],axis = 1)\n",
    "dataset.shape"
   ]
  },
  {
   "cell_type": "markdown",
   "id": "635bbeae-cec1-4f2e-a2fc-0ae1ff73d8b8",
   "metadata": {},
   "source": [
    "### Data standardization"
   ]
  },
  {
   "cell_type": "code",
   "execution_count": 57,
   "id": "79a891f0-821e-4eaf-8adc-8b1e1168a81f",
   "metadata": {},
   "outputs": [
    {
     "name": "stdout",
     "output_type": "stream",
     "text": [
      "(27244, 719)\n",
      "(27244,)\n"
     ]
    }
   ],
   "source": [
    "X = dataset.drop('Price',axis=1)\n",
    "y= dataset['Price']\n",
    "print(X.shape)\n",
    "print(y.shape)"
   ]
  },
  {
   "cell_type": "code",
   "execution_count": 58,
   "id": "9826542d-7de9-49bd-a3fb-9af25e4415f6",
   "metadata": {},
   "outputs": [],
   "source": [
    "from sklearn.preprocessing import StandardScaler\n",
    "# define min max scaler\n",
    "scaler = StandardScaler()\n",
    "# transform data\n",
    "scaled = scaler.fit_transform(X)"
   ]
  },
  {
   "cell_type": "code",
   "execution_count": 59,
   "id": "e12cd1dc-41f3-47a5-9cdc-5c04d5c0fb90",
   "metadata": {},
   "outputs": [],
   "source": [
    "from sklearn.model_selection import train_test_split\n",
    "X_train,X_test,y_train,y_test = train_test_split(scaled,y,test_size=0.2,random_state=40)"
   ]
  },
  {
   "cell_type": "code",
   "execution_count": 60,
   "id": "0178088f-db79-4a41-b193-9c6f989de369",
   "metadata": {},
   "outputs": [],
   "source": [
    "from sklearn.linear_model import LinearRegression\n",
    "reg = LinearRegression().fit(X_train, y_train)\n",
    "Reg_predict=reg.predict(X_test)\n",
    "Reg_predict_train=reg.predict(X_train)"
   ]
  },
  {
   "cell_type": "code",
   "execution_count": 68,
   "id": "c01fe346-f129-437c-8010-ad350173a044",
   "metadata": {},
   "outputs": [
    {
     "name": "stdout",
     "output_type": "stream",
     "text": [
      "R score -1.0731685055478281e+27\n",
      "R score 0.6741414524899636\n",
      "MSE =  4.444885415339859e+38\n"
     ]
    }
   ],
   "source": [
    "from sklearn import metrics\n",
    "print(\"R score\",metrics.r2_score(y_test,Reg_predict))\n",
    "print(\"R score\",metrics.r2_score(y_train,Reg_predict_train))\n",
    "print(\"MSE = \", metrics.mean_squared_error(y_test,Reg_predict))"
   ]
  },
  {
   "cell_type": "code",
   "execution_count": 52,
   "id": "43b2035e-f93d-4a45-ac3a-655265109bce",
   "metadata": {
    "collapsed": true,
    "jupyter": {
     "outputs_hidden": true
    }
   },
   "outputs": [
    {
     "name": "stdout",
     "output_type": "stream",
     "text": [
      "Intercept:  6.905102493852678e+16\n",
      "Coefficient: [-3.21367751e+17 -5.48768068e+17 -5.53178766e+17  1.02854240e+18\n",
      " -6.84966832e+17 -1.34743687e+18 -7.59696612e+17  3.21367751e+17\n",
      " -1.97455167e+17  5.53178766e+17 -1.02854240e+18  6.84966832e+17\n",
      "  3.59680000e+04  1.34743687e+18  7.59696612e+17 -6.38220047e+16\n",
      " -6.58890032e+16 -2.16533542e+16 -4.65997314e+16 -5.62650730e+16\n",
      " -1.67376623e+16 -3.34947240e+16 -2.41220489e+15 -4.07131066e+16\n",
      " -3.80934803e+16 -3.68719206e+16 -2.55323933e+16 -5.32306677e+16\n",
      " -5.17865297e+16 -8.92966971e+16 -7.02515009e+16 -1.22577523e+16\n",
      " -5.04116501e+16 -3.23818952e+16 -3.76529034e+16 -3.00060897e+16\n",
      "  8.40568792e+15 -2.34472484e+16 -2.42141593e+16  1.46238212e+18\n",
      " -1.03723090e+17 -2.15655389e+16 -4.59425487e+16 -1.15587943e+16\n",
      "  9.26255382e+16 -3.39309477e+17 -2.86754562e+16 -2.51189273e+16\n",
      " -4.04697440e+16 -2.86641942e+16 -6.05949049e+16  9.57020769e+15\n",
      " -1.87482727e+16 -4.13985171e+16 -4.69978283e+16 -3.71415221e+16\n",
      "  6.63924868e+16 -8.67936905e+15  2.87283658e+15 -3.17910590e+16\n",
      " -4.92012356e+16  1.81600138e+17  2.19092762e+16  5.15498868e+16\n",
      " -9.13504850e+15 -5.31310543e+16 -4.01174760e+16  8.27337812e+16\n",
      " -1.45980397e+16 -2.00063895e+16 -2.36168953e+16 -2.52108510e+16\n",
      " -3.27342651e+16 -2.81943458e+16  2.98805340e+16 -1.03338889e+16\n",
      " -4.47194658e+16  2.87229562e+16 -9.35548346e+15  7.63732657e+15\n",
      " -1.91404430e+15 -8.74915318e+16 -5.13950218e+16 -2.35969026e+16\n",
      " -3.47959171e+16 -4.48259723e+15 -2.52190754e+16 -4.07976999e+16\n",
      " -8.96217361e+16 -7.74070998e+16  3.34404774e+16 -2.10059546e+17\n",
      " -7.40682141e+16 -7.88562761e+16 -8.40264875e+16 -1.31801342e+16\n",
      " -1.22926251e+17  1.46868025e+17 -7.38480803e+15 -7.35365021e+16\n",
      "  6.05111593e+15 -1.07736810e+16  1.95706839e+17 -3.70339425e+16\n",
      " -1.37788548e+16 -2.18221236e+16 -2.87872972e+16 -2.09982223e+16\n",
      "  4.04366488e+16 -2.86117869e+16 -3.01507132e+16 -2.57033009e+16\n",
      " -1.21610841e+16 -4.78257407e+16 -6.90145183e+16 -1.60494186e+16\n",
      " -2.02406601e+16 -1.23819696e+16 -2.63320898e+16 -2.62331244e+16\n",
      " -6.73968942e+16 -2.27953834e+16 -1.04364323e+17 -8.36157413e+15\n",
      "  9.70676453e+15  3.29500765e+16 -2.75522097e+16 -5.73342331e+16\n",
      " -6.99343555e+16 -5.05652051e+16 -6.90942773e+15 -1.07408125e+17\n",
      " -2.98839067e+16 -1.51394258e+16 -3.12985556e+16  2.65458883e+16\n",
      " -1.24410351e+17 -4.81526114e+16  9.89662228e+16  2.73669217e+16\n",
      " -5.18586233e+16 -5.18039214e+16 -3.62376295e+18 -1.85682614e+16\n",
      " -1.04631480e+16  1.61728641e+16  2.05861969e+16 -7.37789701e+16\n",
      "  2.18433591e+16  3.18806784e+16 -4.95490562e+15 -8.03501608e+15\n",
      " -3.37890153e+16 -1.27191359e+15 -2.57910719e+17 -7.14313754e+16\n",
      " -2.79582086e+16 -6.83696977e+16 -6.58921521e+16 -3.94739170e+16\n",
      " -4.10719810e+16  6.34986480e+16  9.54682358e+16  1.04929219e+17\n",
      " -5.36864493e+16  5.74762606e+16  8.60169412e+15 -1.55767276e+16\n",
      " -4.74525023e+16 -3.37036030e+16 -5.52046347e+16 -2.34551560e+16\n",
      "  8.06855723e+16 -1.48712948e+16 -2.02837525e+16 -4.24246256e+16\n",
      " -3.50532154e+16 -5.80672656e+16 -7.13636751e+16 -6.98412123e+16\n",
      " -2.92853840e+16 -2.38268736e+16  8.36271290e+16 -3.86820372e+16\n",
      " -2.58551250e+16 -2.35495806e+16 -4.43583168e+16 -5.25513732e+16\n",
      " -2.58117907e+16 -4.58806041e+15 -4.68479880e+16 -2.99571156e+16\n",
      " -3.37500355e+16 -4.10241520e+16 -1.96382042e+16 -4.81086643e+16\n",
      "  1.95799894e+16  6.08425378e+16 -5.49150298e+16 -5.32418816e+16\n",
      " -1.94611541e+16 -2.34895433e+16 -1.83851473e+16 -5.80817556e+16\n",
      " -2.66810477e+16 -2.32954782e+16 -5.06594286e+16  4.72268885e+16\n",
      " -2.48578258e+17 -1.73781634e+16 -1.63038100e+17 -3.67963440e+16\n",
      " -2.47125423e+16  1.39322503e+18  1.40139579e+15 -5.99897076e+16\n",
      " -3.46687329e+16  2.46586113e+16 -5.07415127e+16 -3.27185530e+16\n",
      "  5.80861573e+15  1.94388280e+17 -8.39418844e+16 -1.04794160e+17\n",
      " -5.97273540e+16 -1.25388178e+17  1.93127733e+16 -9.52345077e+15\n",
      " -4.64307579e+16  9.60377101e+16 -1.79705891e+16 -7.28138060e+16\n",
      " -6.69581012e+16 -4.04575085e+16 -7.15555617e+16 -3.28814342e+16\n",
      " -5.95963757e+16 -4.04044643e+17 -1.18951495e+17 -1.40657511e+17\n",
      "  7.50130501e+16 -1.03038063e+17 -4.09838603e+16 -3.66777462e+16\n",
      " -3.85384413e+16 -4.31591419e+16 -7.80319541e+16 -4.45908734e+16\n",
      "  3.61984109e+16 -1.94496090e+16  1.59561916e+17 -2.29146029e+16\n",
      " -3.05810665e+16 -1.72310498e+16 -4.32696412e+16 -3.01630604e+16\n",
      " -1.66780881e+17 -1.42455913e+17 -5.02797984e+16 -2.09197388e+17\n",
      " -1.27005153e+17 -1.40766240e+16  7.11918528e+16 -3.98337767e+16\n",
      " -2.44950395e+16 -2.43463051e+16  8.64566140e+16  2.40761732e+16\n",
      "  5.54234182e+15  2.51227847e+17 -1.46081406e+16 -2.16515308e+16\n",
      "  7.97790114e+16  2.67374604e+17 -3.29969030e+16 -6.04220806e+15\n",
      " -2.85230414e+16 -3.00640874e+16 -3.18814626e+16 -1.76405919e+16\n",
      " -6.34110751e+16 -3.71764171e+16  1.83424688e+16 -3.14912024e+16\n",
      " -2.90786272e+16 -2.64860916e+16 -1.79864462e+16 -6.76301196e+16\n",
      " -3.58441925e+16 -6.43067318e+16 -1.04581993e+17 -3.39259244e+16\n",
      " -4.54139227e+16 -2.07667406e+16  4.40347043e+16  1.58801223e+17\n",
      "  9.10046895e+15 -5.48983504e+16 -7.07418700e+16 -4.36543088e+16\n",
      "  6.99024929e+16 -2.80355476e+16  1.19143398e+17 -6.82593807e+16\n",
      " -3.24289682e+16  8.41793622e+16 -6.76901363e+16 -5.00908241e+16\n",
      " -1.94159252e+16 -3.21768075e+16 -2.63479803e+16  1.52247858e+16\n",
      " -2.52212322e+16 -2.41425589e+16  8.60495620e+17 -2.22511867e+16\n",
      " -4.72700335e+16 -1.59088953e+16  4.21431351e+16  9.28418014e+16\n",
      " -2.69817135e+15 -3.18114353e+16 -1.16874537e+16 -3.81848060e+16\n",
      " -1.01029864e+17 -2.92705764e+16 -2.77388788e+16 -5.89246148e+16\n",
      " -4.49037819e+16 -7.31598527e+16 -2.24983979e+16 -1.10169338e+16\n",
      " -2.62750157e+16 -1.39714273e+16 -3.87444172e+16 -1.85245239e+16\n",
      " -1.48533333e+16 -2.47197525e+16  1.15372799e+17 -1.20031752e+16\n",
      " -4.52337958e+16 -1.50239392e+16 -1.17764224e+16 -9.26648794e+16\n",
      " -3.13609222e+16 -9.35633001e+15 -1.87857861e+16 -2.56420434e+16\n",
      " -4.50086101e+16 -3.22534362e+16 -9.14962973e+15 -1.03132178e+17\n",
      " -2.37140974e+16 -2.09068415e+16 -1.68701242e+16 -2.75860047e+16\n",
      "  4.09200976e+15 -6.76844005e+15 -6.50880000e+04 -1.72928000e+05\n",
      "  3.22400000e+04  1.37600000e+03  1.15360000e+04  1.32800000e+03\n",
      "  1.12000000e+03  1.09600000e+03  2.13280000e+04  4.19200000e+03\n",
      " -2.73600000e+03  4.66400000e+03  6.24000000e+03 -5.40000000e+02\n",
      " -4.62000000e+02  6.49200000e+03 -1.60000000e+03  5.34800000e+03\n",
      "  6.41200000e+03  1.79200000e+03  8.86000000e+02  2.24000000e+02\n",
      "  1.04000000e+03 -8.88000000e+02  1.71200000e+03  3.94300000e+03\n",
      "  9.68000000e+03  4.19520000e+04  2.75200000e+03 -8.16000000e+02\n",
      "  3.62000000e+03  1.04000000e+03  8.96800000e+03  8.00000000e+02\n",
      "  4.89150000e+03  1.40000000e+03 -2.36800000e+03  2.33120000e+04\n",
      "  2.08800000e+03  1.85800000e+03  8.24400000e+03  2.02600000e+03\n",
      " -2.27600000e+03  1.44750000e+03 -1.14200000e+03 -1.24000000e+03\n",
      "  2.23040000e+04 -8.24000000e+02  1.09120000e+04  5.92000000e+02\n",
      "  1.06800000e+04 -1.10600000e+03 -1.12000000e+03  3.58920000e+04\n",
      "  1.36800000e+03  1.92000000e+03 -8.23676280e+17 -1.12000000e+03\n",
      "  8.98800000e+03  3.64857503e+17  2.15760000e+04  4.06400000e+03\n",
      "  1.26400000e+03  7.68000000e+03  1.91760000e+04  1.31840000e+04\n",
      "  4.32000000e+02  4.48800000e+03 -5.40400000e+03  5.23200000e+03\n",
      " -2.00000000e+01  1.08560000e+04 -1.88000000e+03  2.60392992e+18\n",
      " -9.64000000e+02  1.76000000e+04  1.29600000e+03  5.67200000e+03\n",
      "  3.45400000e+03 -3.11200000e+03  2.57600000e+03  2.84800000e+03\n",
      " -4.59200000e+03  1.34000000e+03  1.18400000e+03  1.99600000e+03\n",
      " -2.40000000e+02  1.20280000e+04  1.75680000e+04  1.48400000e+03\n",
      "  4.86400000e+03  4.36800000e+03 -1.54800000e+03 -4.97200000e+03\n",
      " -3.92000000e+02  6.08000000e+02  1.20400000e+04  6.29200000e+03\n",
      "  2.56400000e+03  1.19600000e+03  1.02080000e+04  8.87200000e+03\n",
      "  5.20000000e+01  5.39400000e+03  2.04160000e+04  1.16000000e+03\n",
      " -2.40800000e+03  4.40000000e+02  1.51360000e+04  4.60800000e+03\n",
      "  7.76000000e+02  1.54400000e+03  5.14400000e+03 -2.56000000e+02\n",
      " -2.27400000e+03 -6.78000000e+02  9.59200000e+03 -5.00800000e+03\n",
      " -2.99200000e+03  1.68000000e+02  2.38080000e+04  4.72800000e+03\n",
      "  3.32000000e+03  1.05120000e+04  2.39780000e+04  1.72800000e+03\n",
      " -2.26000000e+03  1.67680000e+04 -1.62800000e+03  2.33600000e+03\n",
      "  2.00400000e+03  1.14320000e+04  3.46800000e+03 -1.59200000e+03\n",
      " -2.72000000e+02  5.58400000e+03  5.19800000e+03  6.82400000e+03\n",
      "  1.05600000e+03  3.76200000e+03  3.67600000e+03 -6.32000000e+02\n",
      "  1.65200000e+03  1.35200000e+03  2.94970909e+18  2.45120000e+04\n",
      "  7.09600000e+03  6.70800000e+04 -3.21083066e+18 -4.41600000e+03\n",
      " -1.51274028e+18  4.00000000e+02 -4.96000000e+02  2.00000000e+02\n",
      "  4.48000000e+02 -1.56800000e+03  5.39200000e+04  1.56800000e+03\n",
      "  1.65600000e+03  1.59840000e+04  1.71600000e+03  2.00000000e+03\n",
      " -1.50400000e+03  7.37200000e+03  9.36000000e+02  1.26880000e+04\n",
      " -1.93600000e+03  4.55600000e+03  7.72000000e+02  3.26400000e+03\n",
      "  3.36000000e+03 -3.52000000e+02  1.61800000e+03  1.09745000e+04\n",
      "  1.81440000e+04  1.28000000e+03  1.78003853e+18  1.17350000e+03\n",
      "  2.48000000e+03  1.98400000e+03  2.01600000e+03  1.93100000e+03\n",
      " -3.18400000e+03  1.72000000e+03  2.80000000e+02  9.38560000e+04\n",
      " -7.96000000e+02  7.58400000e+03  8.43200000e+03  1.34840000e+04\n",
      "  4.68800000e+03  2.46480000e+04  3.11606011e+18 -1.93200000e+03\n",
      "  4.37300000e+03 -1.08000000e+03  2.15000000e+03 -1.53200000e+03\n",
      "  3.09600000e+03  5.47200000e+03  5.28000000e+02  2.45280000e+04\n",
      "  3.04800000e+03  1.63997194e+18 -5.26098324e+16  8.42400000e+03\n",
      " -1.84000000e+03  1.22200000e+04  2.59600000e+03 -2.56800000e+03\n",
      " -2.56000000e+02  4.51360000e+04  2.36800000e+03  4.57100000e+03\n",
      "  5.28000000e+03  3.01200000e+03  3.74400000e+03  1.56680000e+04\n",
      "  1.68640000e+04  3.02528962e+18  1.15440000e+04  5.76000000e+02\n",
      "  4.10000000e+03  2.27400000e+03  4.84100000e+03  8.32000000e+02\n",
      "  9.52000000e+02  1.72800000e+03 -2.40000000e+02  1.29600000e+03\n",
      "  1.67000000e+02  2.21600000e+03  4.80000000e+03  5.12500000e+02\n",
      "  3.31600000e+03  6.28800000e+03  6.93200000e+03  8.22700000e+03\n",
      "  6.53600000e+03  7.56000000e+03  2.82400000e+03  1.04640000e+04\n",
      "  4.25200000e+03  8.73600000e+03  9.04000000e+02  1.57000000e+02\n",
      "  7.59600000e+03 -2.56000000e+02  1.46400000e+04 -1.69600000e+03\n",
      " -2.29600000e+03  3.79200000e+03  1.06800000e+03  1.94200000e+03\n",
      "  3.77200000e+03  4.34800000e+03  3.63520000e+04  1.03660000e+04\n",
      "  9.84800000e+03  1.04000000e+02  2.55600000e+04  2.74800000e+03\n",
      " -8.88000000e+02  3.37500000e+03  6.45200000e+03  3.17600000e+03\n",
      "  1.36000000e+02  4.43200000e+03  1.02400000e+04 -6.08000000e+02\n",
      "  1.59550000e+03  1.80800000e+03  2.35200000e+03 -4.70800000e+03\n",
      "  5.39800000e+03  3.11400000e+03 -1.21600000e+03  3.92000000e+03\n",
      "  7.87200000e+03  1.55367546e+18  1.84800000e+03 -1.10000000e+03\n",
      "  2.73600000e+03 -4.16000000e+02 -1.40800000e+03  2.52200000e+03\n",
      "  2.46400000e+03  2.72000000e+02  3.23200000e+04  2.20000000e+03\n",
      "  2.54400000e+03 -1.08000000e+03 -2.03200000e+03  1.76320000e+04\n",
      " -2.17600000e+03  1.54640000e+04  1.29600000e+03 -1.95241633e+18\n",
      " -1.52000000e+02 -4.80000000e+01  5.89600000e+03 -1.60000000e+02\n",
      "  3.48800000e+03 -9.34150000e+03  1.56800000e+03  5.16800000e+03\n",
      "  5.31000000e+03 -5.52000000e+02  4.29200000e+03 -2.82561341e+17\n",
      "  7.20000000e+01  3.32800000e+03  8.12000000e+03  3.00653917e+18\n",
      " -3.50400000e+03 -3.36000000e+02 -1.02800000e+03  1.25440000e+04\n",
      "  2.38400000e+03  3.11200000e+03  1.41800000e+03  8.19600000e+03\n",
      "  5.72800000e+03  5.24400000e+03 -2.20800000e+03  6.08000000e+02\n",
      " -3.48800000e+03  4.29600000e+03  4.83200000e+03  1.65360000e+04\n",
      "  5.96000000e+03  2.14800000e+03  5.12000000e+02  2.02980000e+04\n",
      " -9.56000000e+02 -5.31200000e+03  1.82640000e+04  8.48000000e+02\n",
      "  4.23600000e+03  3.10040000e+04  4.51800000e+03  1.33200000e+03\n",
      "  5.20000000e+03  1.28948232e+18  1.98400000e+03  4.08800000e+03\n",
      "  6.63000000e+03  4.67200000e+03  1.87600000e+03  1.03200000e+03\n",
      "  2.70885351e+17  2.59000000e+03  9.77600000e+03  4.41600000e+03\n",
      "  8.29092649e+17 -3.89948786e+17  1.06503387e+17  3.66494040e+17\n",
      " -9.51349262e+16 -3.31422099e+16  9.41605915e+16]\n"
     ]
    }
   ],
   "source": [
    "#Printing the model coefficients\n",
    "print('Intercept: ', reg.intercept_)\n",
    "print('Coefficient:', reg.coef_)"
   ]
  },
  {
   "cell_type": "markdown",
   "id": "347b078b-47ad-4527-a455-7d31c3372ad8",
   "metadata": {},
   "source": [
    "## using Lasso(L1 Regularization )Regression model"
   ]
  },
  {
   "cell_type": "code",
   "execution_count": 66,
   "id": "5703ecc5-a5b8-4bbd-9b53-b2b72c6850fd",
   "metadata": {},
   "outputs": [],
   "source": [
    "from sklearn.linear_model import Lasso\n",
    "lasso_reg=Lasso()\n",
    "lasso_reg.fit(X_train,y_train)\n",
    "y_pred_lasso_train=lasso_reg.predict(X_train)\n",
    "y_pred_lasso_lest=lasso_reg.predict(X_test)"
   ]
  },
  {
   "cell_type": "code",
   "execution_count": 70,
   "id": "759b7515-b3ae-4733-8b07-21e3484f9753",
   "metadata": {},
   "outputs": [
    {
     "data": {
      "text/plain": [
       "0.6673661331684886"
      ]
     },
     "execution_count": 70,
     "metadata": {},
     "output_type": "execute_result"
    }
   ],
   "source": [
    "lasso_reg.score(X_test,y_test)"
   ]
  },
  {
   "cell_type": "code",
   "execution_count": 72,
   "id": "32db76bc-a257-4db1-a8b4-de1993cb7567",
   "metadata": {},
   "outputs": [
    {
     "data": {
      "text/plain": [
       "0.6790460706567883"
      ]
     },
     "execution_count": 72,
     "metadata": {},
     "output_type": "execute_result"
    }
   ],
   "source": [
    "lasso_reg.score(X_train,y_train)"
   ]
  },
  {
   "cell_type": "code",
   "execution_count": 75,
   "id": "ccfec619-9275-41e8-b62a-a5130372f43d",
   "metadata": {},
   "outputs": [],
   "source": [
    "from sklearn.linear_model import Ridge\n",
    "ridge_reg=Ridge()\n",
    "ridge_reg.fit(X_train,y_train)\n",
    "y_pred_lasso_train=ridge_reg.predict(X_train)\n",
    "y_pred_lasso_lest=ridge_reg.predict(X_test)\n"
   ]
  },
  {
   "cell_type": "code",
   "execution_count": 76,
   "id": "6c959daa-084e-4cc7-8b85-a2f20d1d8490",
   "metadata": {},
   "outputs": [
    {
     "data": {
      "text/plain": [
       "0.6672838035791478"
      ]
     },
     "execution_count": 76,
     "metadata": {},
     "output_type": "execute_result"
    }
   ],
   "source": [
    "ridge_reg.score(X_test,y_test)"
   ]
  },
  {
   "cell_type": "code",
   "execution_count": 77,
   "id": "e9c7c9b7-04dc-4b5c-bf55-a9c8fa719332",
   "metadata": {},
   "outputs": [
    {
     "data": {
      "text/plain": [
       "0.6790522449677998"
      ]
     },
     "execution_count": 77,
     "metadata": {},
     "output_type": "execute_result"
    }
   ],
   "source": [
    "ridge_reg.score(X_train,y_train)"
   ]
  },
  {
   "cell_type": "code",
   "execution_count": 79,
   "id": "3a411677-9018-4753-bdf7-5ed7a2be93bc",
   "metadata": {},
   "outputs": [],
   "source": [
    "from sklearn.linear_model import ElasticNet\n",
    "En_reg=ElasticNet()\n",
    "En_reg.fit(X_train,y_train)\n",
    "y_pred_lasso_train=En_reg.predict(X_train)\n",
    "y_pred_lasso_lest=En_reg.predict(X_test)\n"
   ]
  },
  {
   "cell_type": "code",
   "execution_count": 80,
   "id": "aa02d250-3f1f-429f-a95d-88d5085143c2",
   "metadata": {},
   "outputs": [
    {
     "data": {
      "text/plain": [
       "0.6279826924467492"
      ]
     },
     "execution_count": 80,
     "metadata": {},
     "output_type": "execute_result"
    }
   ],
   "source": [
    "En_reg.score(X_test,y_test)"
   ]
  },
  {
   "cell_type": "code",
   "execution_count": 81,
   "id": "51e2a0ae-88ba-4e4a-b18c-b8ebc2d9b827",
   "metadata": {},
   "outputs": [
    {
     "data": {
      "text/plain": [
       "0.6413105006559306"
      ]
     },
     "execution_count": 81,
     "metadata": {},
     "output_type": "execute_result"
    }
   ],
   "source": [
    "En_reg.score(X_train,y_train)"
   ]
  },
  {
   "cell_type": "markdown",
   "id": "e2fc0937-1c58-4a3e-a0d0-1fca91dda6fa",
   "metadata": {},
   "source": [
    "## Cross validation\n",
    "### 1.stratitied CV\n",
    "### 2.p-out cv\n",
    "### 3.1-out cv\n",
    "### 4.k-fold cv"
   ]
  },
  {
   "cell_type": "markdown",
   "id": "db991d89-8ab9-4bd2-ba4d-21156305e402",
   "metadata": {},
   "source": [
    "### Hold-Out Method\n",
    "=>selecting your random stats"
   ]
  },
  {
   "cell_type": "code",
   "execution_count": null,
   "id": "81bc61ad-b470-4f75-bb00-f38904c289fd",
   "metadata": {},
   "outputs": [],
   "source": []
  },
  {
   "cell_type": "code",
   "execution_count": null,
   "id": "9e3d5c48-47e0-4be4-ba98-f80a155e7598",
   "metadata": {},
   "outputs": [],
   "source": []
  },
  {
   "cell_type": "code",
   "execution_count": null,
   "id": "88a57cc6-29f4-4317-93f8-2989d5958bfe",
   "metadata": {},
   "outputs": [],
   "source": []
  },
  {
   "cell_type": "code",
   "execution_count": null,
   "id": "13267646-5e51-425c-a257-8cbad24c7fb6",
   "metadata": {},
   "outputs": [],
   "source": []
  },
  {
   "cell_type": "code",
   "execution_count": null,
   "id": "714b0c00-60a6-4b9b-8fa7-b37989020ccc",
   "metadata": {},
   "outputs": [],
   "source": []
  },
  {
   "cell_type": "code",
   "execution_count": null,
   "id": "fec6c4b1-6029-4036-b426-1be42850e95e",
   "metadata": {},
   "outputs": [],
   "source": []
  },
  {
   "cell_type": "code",
   "execution_count": null,
   "id": "e43130c7-09ea-47e4-bcdd-14f38625ed3d",
   "metadata": {},
   "outputs": [],
   "source": []
  },
  {
   "cell_type": "code",
   "execution_count": null,
   "id": "413c5c09-4c4d-49d6-a80f-2a058a3153a7",
   "metadata": {},
   "outputs": [],
   "source": []
  },
  {
   "cell_type": "code",
   "execution_count": null,
   "id": "bd8343e3-0048-48c7-a542-d3f63836cd5d",
   "metadata": {},
   "outputs": [],
   "source": []
  },
  {
   "cell_type": "code",
   "execution_count": null,
   "id": "63c397d0-d765-4826-a5b2-de8fc05206fe",
   "metadata": {},
   "outputs": [],
   "source": []
  },
  {
   "cell_type": "code",
   "execution_count": null,
   "id": "e2e1f552-28a9-463a-b500-977967c8793f",
   "metadata": {},
   "outputs": [],
   "source": []
  },
  {
   "cell_type": "code",
   "execution_count": null,
   "id": "e7774236-3fdf-4915-ad5d-f5b41151673b",
   "metadata": {},
   "outputs": [],
   "source": []
  },
  {
   "cell_type": "code",
   "execution_count": null,
   "id": "b6b2659b-a983-46ae-8b10-2b50bef9fbd3",
   "metadata": {},
   "outputs": [],
   "source": []
  },
  {
   "cell_type": "code",
   "execution_count": null,
   "id": "b2f99114-e6d7-4f63-a2ea-f664cb32ae32",
   "metadata": {},
   "outputs": [],
   "source": []
  },
  {
   "cell_type": "code",
   "execution_count": null,
   "id": "fcdbd47c-a215-4f32-afc0-2367ea75612c",
   "metadata": {},
   "outputs": [],
   "source": []
  }
 ],
 "metadata": {
  "kernelspec": {
   "display_name": "Python 3 (ipykernel)",
   "language": "python",
   "name": "python3"
  },
  "language_info": {
   "codemirror_mode": {
    "name": "ipython",
    "version": 3
   },
   "file_extension": ".py",
   "mimetype": "text/x-python",
   "name": "python",
   "nbconvert_exporter": "python",
   "pygments_lexer": "ipython3",
   "version": "3.11.5"
  }
 },
 "nbformat": 4,
 "nbformat_minor": 5
}
